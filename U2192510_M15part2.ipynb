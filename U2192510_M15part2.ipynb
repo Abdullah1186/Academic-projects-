{
 "cells": [
  {
   "cell_type": "code",
   "execution_count": 1,
   "metadata": {},
   "outputs": [
    {
     "data": {
      "text/html": [
       "<script>\n",
       "code_show=true; \n",
       "function code_toggle() {\n",
       "    if (code_show){\n",
       "        $('div.cell.code_cell.rendered.selected div.input').hide();\n",
       "    } else {\n",
       "        $('div.cell.code_cell.rendered.selected div.input').show();\n",
       "    }\n",
       "    code_show = !code_show\n",
       "} \n",
       "$( document ).ready(code_toggle);\n",
       "</script>\n",
       "Some hidden code... to show/hide this cell's raw code input, click (or double click if stubborn!) <a href=\"javascript:code_toggle()\">here</a>."
      ],
      "text/plain": [
       "<IPython.core.display.HTML object>"
      ]
     },
     "metadata": {},
     "output_type": "display_data"
    },
    {
     "data": {
      "text/html": [
       "<style>\n",
       "div.warn {    \n",
       "    background-color: #b3b3ff;\n",
       "    border-color: #0000b3;\n",
       "    border-left: 5px solid #0000b3;\n",
       "    padding: 0.5em;\n",
       "    }\n",
       " </style>\n"
      ],
      "text/plain": [
       "<IPython.core.display.HTML object>"
      ]
     },
     "execution_count": 1,
     "metadata": {},
     "output_type": "execute_result"
    }
   ],
   "source": [
    "from IPython.display import HTML\n",
    "from IPython.display import display\n",
    "\n",
    "# Taken from https://stackoverflow.com/questions/31517194/how-to-hide-one-specific-cell-input-or-output-in-ipython-notebook\n",
    "tag = HTML('''<script>\n",
    "code_show=true; \n",
    "function code_toggle() {\n",
    "    if (code_show){\n",
    "        $('div.cell.code_cell.rendered.selected div.input').hide();\n",
    "    } else {\n",
    "        $('div.cell.code_cell.rendered.selected div.input').show();\n",
    "    }\n",
    "    code_show = !code_show\n",
    "} \n",
    "$( document ).ready(code_toggle);\n",
    "</script>\n",
    "Some hidden code... to show/hide this cell's raw code input, click (or double click if stubborn!) <a href=\"javascript:code_toggle()\">here</a>.''')\n",
    "display(tag)\n",
    "\n",
    "############### Write code below ##################\n",
    "from IPython.core.display import HTML\n",
    "def css_styling():\n",
    "    styles = open(\"./STUFF/colors.css\", \"r\").read()\n",
    "    return HTML(styles)\n",
    "css_styling()"
   ]
  },
  {
   "cell_type": "markdown",
   "metadata": {
    "hideCode": false,
    "hidePrompt": false
   },
   "source": [
    "# CH222"
   ]
  },
  {
   "cell_type": "markdown",
   "metadata": {
    "hideCode": false,
    "hidePrompt": false
   },
   "source": [
    "# Studying the solvation shell of ions via Molecular Dynamics Simulations"
   ]
  },
  {
   "cell_type": "markdown",
   "metadata": {},
   "source": [
    "<div class=warn>\n",
    "Tasks, where you need to edit the code cells will be shown in similar \"blue boxes\".\n",
    "<div/>"
   ]
  },
  {
   "cell_type": "markdown",
   "metadata": {
    "hideCode": false,
    "hidePrompt": false
   },
   "source": [
    "**IMPORTANT!!!** Use **Google Chrome** to work on the notebook instead of using Microsoft Explorer. The latter handles the visualisation package incorrectly."
   ]
  },
  {
   "cell_type": "markdown",
   "metadata": {
    "hideCode": false,
    "hidePrompt": false
   },
   "source": [
    "## Content of this notebook\n",
    "\n",
    "#### Analysing the results\n",
    "\n",
    "7. Analysing results"
   ]
  },
  {
   "cell_type": "code",
   "execution_count": 2,
   "metadata": {},
   "outputs": [
    {
     "data": {
      "application/vnd.jupyter.widget-view+json": {
       "model_id": "cb135e641a784848bf4990b21da09b9a",
       "version_major": 2,
       "version_minor": 0
      },
      "text/plain": []
     },
     "metadata": {},
     "output_type": "display_data"
    }
   ],
   "source": [
    "import hoomd\n",
    "import hoomd.md\n",
    "from scipy.interpolate import interp1d\n",
    "from matplotlib import pyplot \n",
    "import matplotlib.pyplot as plt\n",
    "import math\n",
    "from scipy.signal import find_peaks\n",
    "import numpy as np\n",
    "import ase\n",
    "import ase.io\n",
    "from ase.visualize import view\n",
    "import pytraj as pt\n",
    "import nglview as nv"
   ]
  },
  {
   "cell_type": "markdown",
   "metadata": {
    "hideCode": false,
    "hidePrompt": false
   },
   "source": [
    "# 7. Compute the solvation shells"
   ]
  },
  {
   "cell_type": "markdown",
   "metadata": {},
   "source": [
    "In order to compute the extent of the solvation shells for both cations and anions (\"C\" and \"Ar\" particles, respectively), we start with computing the ions-solvent particles pair correlation functions (PCFs). In particular, we need the C-S and the Ar-S pair correlation functions, where \"S\" refer to the solvent particles.\n",
    "\n",
    "Once we have obtained those, we can calculate the coordination number of, e.g., S with respect to C (i.e. on average, how many solvent particles \"S\" can be found around a cation \"C\" within a ceartin distance $r_{cut}$) via:\n",
    "\n",
    "$$\n",
    "CN_{C-S} = 4\\pi \\rho \\int_0^{r_{cut}} PCF_{C-S} \\cdot r^2 \\cdot dr\n",
    "$$"
   ]
  },
  {
   "cell_type": "markdown",
   "metadata": {},
   "source": [
    "### Calculating the pair correlation functions\n",
    "\n",
    "You can calculate the pair correlation function ***relative to a particular frame only*** using the function \"py_rdf_AB\" defined below. This function takes in input the following arguments: \n",
    "\n",
    "* **r_A**   = a numpy array containing the positions of the A particles (could be \"C\", \"Ar\", \"S\", or all the particles) \n",
    "* **r_B**   = a numpy array containing the positions of the A particles (could be \"C\", \"Ar\", \"S\", or all the particles) \n",
    "* **L**   = the length of the box (which is assumed to be square/cubic in 2/3D !!)\n",
    "* **n_dr** = the number of bins used to construct the distance histogram\n",
    "* **dim** = the dimensionality of the system (2 or 3 D)"
   ]
  },
  {
   "cell_type": "code",
   "execution_count": 3,
   "metadata": {},
   "outputs": [],
   "source": [
    "# This function computes the pair correlation function for two groups of particles\n",
    "# We need as input two arrays of positions for particles A and B\n",
    "\n",
    "def py_rdf_AB(r_A, r_B, L, n_dr, dim):\n",
    "    from numpy import zeros, sqrt, where, pi, mean, arange, histogram, absolute\n",
    "    num_particles_A  = len(r_A)\n",
    "    num_particles_B  = len(r_B)\n",
    "    rMax           = L/2.0;\n",
    "    dr             = rMax/n_dr\n",
    "    edges          = np.linspace(0., rMax + dr, num=n_dr)\n",
    "    num_increments = len(edges) - 1\n",
    "    g              = zeros(num_increments)\n",
    "    radii          = zeros(num_increments)\n",
    "    numberDensity_A  = len(r_A) / L**dim\n",
    "    numberDensity_B  = len(r_B) / L**dim\n",
    "\n",
    "    # Compute pairwise correlation\n",
    "    \n",
    "    # Loop over particles A\n",
    "    for index in range(num_particles_A):\n",
    "\n",
    "        d = 0.0\n",
    "        for i in range(dim):\n",
    "            \n",
    "            # (Components of the) distances between each particle A and all the particles B\n",
    "            dp = absolute(r_A[index,i] - r_B[:,i])\n",
    "            mask = dp>L/2.0\n",
    "            dp[mask] = L - dp[mask]\n",
    "            d += dp*dp\n",
    "\n",
    "        d = sqrt(d) # array containing the num_particles distances from particle index to all other particles\n",
    "        d[index] = 2 * rMax\n",
    "\n",
    "        (result, bins) = histogram(d, bins=edges, density=False)\n",
    "        g += result\n",
    "\n",
    "    # Normalise by the number of B particles and the number density for A particles only    \n",
    "    g = g/(num_particles_B * numberDensity_A)\n",
    "\n",
    "    # Normalize the g(r) dividing by the g(r) of an ideal gas - in 2D!\n",
    "    if dim == 2:\n",
    "        for i in range(num_increments):\n",
    "            radii[i] = (edges[i] + edges[i+1]) / 2.\n",
    "            rOuter = edges[i + 1]\n",
    "            rInner = edges[i]\n",
    "            g[i] = g[i] / (2.0 * pi * (rOuter-rInner)* radii[i])\n",
    "\n",
    "    # Normalize the g(r) dividing by the g(r) of an ideal gas - in 3D\n",
    "    if dim == 3:\n",
    "        for i in range(num_increments):\n",
    "            radii[i] = (edges[i] + edges[i+1]) / 2.\n",
    "            rOuter = edges[i + 1]\n",
    "            rInner = edges[i]\n",
    "            g[i] = g[i] / (4.0 * pi * (rOuter-rInner)* radii[i] * radii[i])\n",
    "\n",
    "    return (radii, g)"
   ]
  },
  {
   "cell_type": "markdown",
   "metadata": {},
   "source": [
    "<div class=warn>\n",
    "    \n",
    "* Load the trajectory file (use the filename you want to use!)\n",
    "    \n",
    "</div>"
   ]
  },
  {
   "cell_type": "markdown",
   "metadata": {},
   "source": [
    "How to access different frames within your MD trajectory, and how to access the positions of all the particles within each frame as well as the dimensions of the simulation box for each frame."
   ]
  },
  {
   "cell_type": "code",
   "execution_count": 4,
   "metadata": {},
   "outputs": [],
   "source": [
    "# Load the trajectory into the \"traj\" object:\n",
    "traj = pt.load('MD_T0.800_p0.100.dcd', top='system.pdb')\n",
    "\n",
    "# Access the positions of all the particles within a single frame \n",
    "# index = 0 is the first frame the simulation started from\n",
    "\n",
    "# Select the last frame [-1] from the trajectory object traj, this should be an equilibrated liquid configuration\n",
    "rr = traj[-1]\n",
    "\n",
    "# .xyz prints out the positions [UNITS?], which we store in the numpy array r\n",
    "r = np.array(rr.xyz)\n",
    "\n",
    "# Access the length of the box \n",
    "# Note that for a NPT simulation the box will change in time, hence we need to select the box for each frame\n",
    "\n",
    "# .box.z prints the magnitude of the cell vector aligned with the z axis. \n",
    "# As we are using a cubic simulation box (identified via three cell vectors of equal length aligned\n",
    "# along the x, y and axis), you - could - also use .box.y and .box.x\n",
    "# NOTE: do - not - use .box.x, though (bug!)\n",
    "# We store this number in the variable S, which represents the length of the box [in Angstrom]\n",
    "L = rr.box.z\n"
   ]
  },
  {
   "cell_type": "markdown",
   "metadata": {},
   "source": [
    "<div class=warn>\n",
    "    \n",
    "* Calculate the pair correlation function *for all the particles in the system* and plot it! (With the default parameters in the cell where you loaded the trajectory, this is going to be the last configuration in the file - this should be an equilibrated liquid. Can you see all the features typical for a liquid RDF?)\n",
    "    \n",
    "</div>"
   ]
  },
  {
   "cell_type": "code",
   "execution_count": 5,
   "metadata": {},
   "outputs": [],
   "source": [
    "n_dr=50\n",
    "\n",
    "# Compute the g(r). dist contains the distances (x-axis), pcf_all contains the g(r)\n",
    "dist, pcf_all = py_rdf_AB(r, r, L, n_dr, 3)"
   ]
  },
  {
   "cell_type": "code",
   "execution_count": 6,
   "metadata": {
    "scrolled": true
   },
   "outputs": [
    {
     "data": {
      "image/png": "[encoded data removed]",
      "text/plain": [
       "<Figure size 480x480 with 1 Axes>"
      ]
     },
     "metadata": {},
     "output_type": "display_data"
    }
   ],
   "source": [
    "# Plot\n",
    "plt.figure(figsize=(6, 6), dpi= 80, facecolor='w', edgecolor='k')\n",
    "plt.tick_params(axis='both', which='both', length=10.0, labelleft=True, labelbottom=True, labelsize=20.0)\n",
    "\n",
    "# Actual g(r) points\n",
    "plt.plot(dist, pcf_all, '-', color='orange', linewidth=2.5, label='Pair corr. func.')\n",
    "plt.plot(dist, pcf_all, 'o', markerfacecolor='green', markersize=4, markeredgecolor='blue', \n",
    "         linewidth=2.5)\n",
    "\n",
    "plt.legend()\n",
    "plt.xlabel('r [Å]', fontsize=26)\n",
    "plt.ylabel('PCF', fontsize=26)\n",
    "plt.show()"
   ]
  },
  {
   "cell_type": "markdown",
   "metadata": {},
   "source": [
    "<div class=warn>\n",
    "    \n",
    "* Calculate the C-S and the Ar-S pair correlation function and plot them on the same graph - again, just for the last frame in the trajectory\n",
    "\n",
    "</div>"
   ]
  },
  {
   "cell_type": "markdown",
   "metadata": {},
   "source": [
    "We know how to access the positions of *all* the particles in a given frame, but in order to compute the e.g. C-S PCF we need to be able to access the positions of C and S atoms only. Here is how we do it..."
   ]
  },
  {
   "cell_type": "code",
   "execution_count": 7,
   "metadata": {},
   "outputs": [],
   "source": [
    "# Frame 0\n",
    "frame = traj[-1]\n",
    "\n",
    "# Read the topology\n",
    "top=traj.top\n",
    "\n",
    "# Get the indexes of the cations\n",
    "idx_C=top.select('@C')\n",
    "r_C=[]\n",
    "\n",
    "for i in idx_C:\n",
    "    # Fill a list with the positions of the cations only\n",
    "    r_C.append(frame[i])\n",
    "    \n",
    "# Get the indexes of the solvent particles\n",
    "idx_S=top.select('@S')\n",
    "r_S=[]\n",
    "\n",
    "for i in idx_S:\n",
    "    r_S.append(frame[i])\n",
    "\n",
    "# Get the corresponding box length to be able to calculate the volume     \n",
    "L = frame.box.z    \n",
    "\n",
    "# \"Flattening\" - that is, we have a list of lists, we need a n_atoms x 3 shaped array...\n",
    "\n",
    "# C\n",
    "tmp = np.array([item for subl in r_C for item in subl])\n",
    "n_C = int(len(tmp)/3)\n",
    "r_C = tmp.reshape((n_C, 3))\n",
    "\n",
    "#S\n",
    "tmp = np.array([item for subl in r_S for item in subl])\n",
    "n_S = int(len(tmp)/3)\n",
    "r_S = tmp.reshape((n_S, 3))\n",
    "\n",
    "#Ar definition \n",
    "idx_Ar=top.select('@Ar')\n",
    "r_Ar=[]\n",
    "\n",
    "for i in idx_Ar:\n",
    "    # Fill a list with the positions of the cations only\n",
    "    r_Ar.append(frame[i])\n",
    "    \n",
    "\n",
    "tmp = np.array([item for subl in r_Ar for item in subl])\n",
    "n_Ar = int(len(tmp)/3)\n",
    "r_Ar = tmp.reshape((n_Ar, 3))\n",
    "\n",
    "#"
   ]
  },
  {
   "cell_type": "code",
   "execution_count": 25,
   "metadata": {
    "scrolled": true
   },
   "outputs": [
    {
     "data": {
      "image/png": "[encoded data removed]",
      "text/plain": [
       "<Figure size 480x480 with 1 Axes>"
      ]
     },
     "metadata": {},
     "output_type": "display_data"
    }
   ],
   "source": [
    "dist, pcf_all1 = py_rdf_AB(r_C, r_S, L, n_dr, 3)\n",
    "dist, pcf_all2 = py_rdf_AB(r_Ar, r_S, L, n_dr, 3)\n",
    "\n",
    "\n",
    "plt.figure(figsize=(6, 6), dpi= 80, facecolor='w', edgecolor='k')\n",
    "plt.tick_params(axis='both', which='both', length=10.0, labelleft=True, labelbottom=True, labelsize=20.0)\n",
    "\n",
    "# Actual g(r) points\n",
    "plt.plot(dist, pcf_all1, '-', color='orange', linewidth=2.5, label='Pair corr. func.C-S')\n",
    "plt.plot(dist, pcf_all1, 'o', markerfacecolor='green', markersize=4, markeredgecolor='blue', \n",
    "         linewidth=2.5)\n",
    "plt.plot(dist, pcf_all2, '-', color='black', linewidth=2.5, label='Pair corr. func.C-Ar')\n",
    "plt.plot(dist, pcf_all2, 'o', markerfacecolor='green', markersize=4, markeredgecolor='blue', \n",
    "         linewidth=2.5)\n",
    "plt.legend()\n",
    "plt.xlabel('r [Å]', fontsize=26)\n",
    "plt.ylabel('PCF', fontsize=26)\n",
    "plt.show()\n"
   ]
  },
  {
   "cell_type": "markdown",
   "metadata": {},
   "source": [
    "Now that we know how to obtain the PCF for any given pair of species for a single configuration/frame of our MD trajectory, we need to take an ensemble average of the PCF across different frames."
   ]
  },
  {
   "cell_type": "markdown",
   "metadata": {},
   "source": [
    "<div class=warn>\n",
    "    \n",
    "* Calculate the C-S and Ar-S PCFs, this time performing an ensemble average across your MD trajectory (how many frames?)\n",
    "    \n",
    "* Identify (by visual inspection) the cutoff radius $r_{cut}$ within which you want to compute the C-S and Ar-S coordination numbers (i.e. the spatial extent of the C-S or Ar-S solvation shell). Typically, one choose the first minimum of the PCF, which in turn sits at distances just a tad bit longer than those for which you observe the most intense peak of the PCF.\n",
    "    \n",
    "* Compute the C-S and the Ar-S coordination numbers up to $r_{cut}$. Comment (in a markdown cell) about your results, with sepcific reference to the choice of LJ parameters you have made to describe the interactions in your system.\n",
    "    \n",
    "</div>"
   ]
  },
  {
   "cell_type": "code",
   "execution_count": 57,
   "metadata": {},
   "outputs": [
    {
     "name": "stdout",
     "output_type": "stream",
     "text": [
      "408\n"
     ]
    }
   ],
   "source": [
    "top=traj.top\n",
    "\n",
    "#need all frames \n",
    "frames= len(traj)\n",
    "print(frames)\n",
    "\n",
    "\n",
    "\n",
    "\n"
   ]
  },
  {
   "cell_type": "code",
   "execution_count": 58,
   "metadata": {},
   "outputs": [],
   "source": [
    "\n",
    "\n",
    "pcf_values1=[]#empty arrays to append \n",
    "pcf_values2=[]\n",
    "#array with zeros to put values in \n",
    "for j in range(len(traj)):#looping to get all index values from different frames \n",
    "    frame=traj[j]\n",
    "    idx_C=top.select('@C')\n",
    "    r_C=[]\n",
    "\n",
    "    for i in idx_C:\n",
    "\n",
    "        r_C.append(frame[i])\n",
    "\n",
    "\n",
    "    idx_S=top.select('@S')\n",
    "    r_S=[]\n",
    "\n",
    "    for i in idx_S:\n",
    "        r_S.append(frame[i])\n",
    "\n",
    "\n",
    "    idx_Ar=top.select('@Ar')\n",
    "    r_Ar=[]\n",
    "\n",
    "    for i in idx_Ar:\n",
    "\n",
    "        r_Ar.append(frame[i])\n",
    "\n",
    "        L = frame.box.z    \n",
    "\n",
    "\n",
    "    # C\n",
    "    tmp = np.array([item for subl in r_C for item in subl])\n",
    "    n_C = int(len(tmp)/3)\n",
    "    r_C = tmp.reshape((n_C, 3))\n",
    "\n",
    "    #S\n",
    "    tmp = np.array([item for subl in r_S for item in subl])\n",
    "    n_S = int(len(tmp)/3)\n",
    "    r_S = tmp.reshape((n_S, 3))\n",
    "\n",
    "\n",
    "    #Ar\n",
    "    tmp = np.array([item for subl in r_Ar for item in subl])\n",
    "    n_Ar = int(len(tmp)/3)\n",
    "    r_Ar = tmp.reshape((n_Ar, 3))\n",
    "\n",
    " \n",
    "    \n",
    "    dist1, pcf_all1 = py_rdf_AB(r_C, r_S, L, n_dr, 3)#putting all of the values in the function \n",
    "    dist2, pcf_all2 = py_rdf_AB(r_Ar, r_S, L, n_dr, 3)\n",
    "    \n",
    "    pcf_values1.append(pcf_all1)\n",
    "    pcf_values2.append(pcf_all2) #appending values into new array \n",
    "    \n",
    "    \n",
    "    "
   ]
  },
  {
   "cell_type": "code",
   "execution_count": 59,
   "metadata": {},
   "outputs": [
    {
     "name": "stdout",
     "output_type": "stream",
     "text": [
      "[0.         0.         0.         ... 1.00353264 1.00054325 0.9705189 ]\n",
      "[0.         0.         0.         ... 1.00313913 1.00394326 0.97415915]\n"
     ]
    }
   ],
   "source": [
    "pcf_ave1=(np.sum(pcf_values1, axis=0))/len(traj)\n",
    "pcf_ave2=(np.sum(pcf_values2, axis=0))/len(traj)#averages of all frames \n",
    "\n",
    "print(pcf_ave1)\n",
    "print(pcf_ave2)"
   ]
  },
  {
   "cell_type": "code",
   "execution_count": 60,
   "metadata": {},
   "outputs": [
    {
     "data": {
      "image/png": "[encoded data removed]",
      "text/plain": [
       "<Figure size 480x480 with 1 Axes>"
      ]
     },
     "metadata": {},
     "output_type": "display_data"
    }
   ],
   "source": [
    "plt.figure(figsize=(6, 6), dpi= 80, facecolor='w', edgecolor='k')\n",
    "plt.tick_params(axis='both', which='both', length=10.0, labelleft=True, labelbottom=True, labelsize=20.0)\n",
    "\n",
    "plt.plot(dist1, pcf_ave1, '-', color='orange', linewidth=2.5, label='Ensamble ave.C-S')\n",
    "plt.plot(dist1, pcf_ave1, 'o', markerfacecolor='green', markersize=4, markeredgecolor='blue', \n",
    "         linewidth=2.5)\n",
    "plt.plot(dist2, pcf_ave2, '-', color='black', linewidth=2.5, label='Ensamble ave C-Ar')\n",
    "plt.plot(dist2, pcf_ave2, 'o', markerfacecolor='green', markersize=4, markeredgecolor='blue', \n",
    "         linewidth=2.5)\n",
    "plt.legend()\n",
    "plt.xlabel('r [Å]', fontsize=26)\n",
    "plt.ylabel('PCF', fontsize=26)\n",
    "plt.show()\n",
    "#for C-S 2.1 A and for C-AR is 1.8 A"
   ]
  },
  {
   "cell_type": "code",
   "execution_count": 96,
   "metadata": {},
   "outputs": [
    {
     "name": "stdout",
     "output_type": "stream",
     "text": [
      "The coordination number is: 2.8469874074240704\n",
      "0.010078252068604453\n"
     ]
    }
   ],
   "source": [
    "#C-S\n",
    "d2dr = dist1[1]-dist1[0] # dr\n",
    "n_ave = n_C\n",
    "density = n_ave/(L*L*L) # number density, 3D\n",
    "r_prime = 2.1 # Å this is our cutoff radius. By looking at our g(r), this is a reasonable guess\n",
    "cn_3d = 0.0 # initialize the coordination number\n",
    "\n",
    "for i in range(0,len(pcf_ave1)):\n",
    "    if dist1[i] > r_prime: # If r > r', exit the loop\n",
    "        break\n",
    "    cn_3d = cn_3d + ((dist1[i]**2)*pcf_ave1[i]*d2dr)\n",
    "\n",
    "cn_3d = cn_3d \n",
    "print(\"The coordination number is:\", cn_3d)\n",
    "print(density)"
   ]
  },
  {
   "cell_type": "code",
   "execution_count": 98,
   "metadata": {},
   "outputs": [
    {
     "name": "stdout",
     "output_type": "stream",
     "text": [
      "The coordination number is: 1.5852640096648025\n",
      "0.010078252068604453\n"
     ]
    }
   ],
   "source": [
    "#C-Ar\n",
    "d2dr = dist2[1]-dist2[0] # dr\n",
    "n_ave = n_Ar\n",
    "density = n_ave/(L*L*L) # number density, 3D\n",
    "r_prime = 1.8 # Å this is our cutoff radius. By looking at our g(r), this is a reasonable guess\n",
    "cn_3d = 0.0 # initialize the coordination number\n",
    "\n",
    "for i in range(0,len(pcf_ave2)):\n",
    "    if dist2[i] > r_prime: # If r > r', exit the loop\n",
    "        break\n",
    "    cn_3d = cn_3d + ((dist2[i]**2)*pcf_ave2[i]*d2dr)\n",
    "\n",
    "\n",
    "print(\"The coordination number is:\", cn_3d)\n",
    "print(density)"
   ]
  },
  {
   "cell_type": "code",
   "execution_count": null,
   "metadata": {},
   "outputs": [],
   "source": []
  }
 ],
 "metadata": {
  "hide_code_all_hidden": false,
  "kernelspec": {
   "display_name": "Python 3",
   "language": "python",
   "name": "python3"
  },
  "language_info": {
   "codemirror_mode": {
    "name": "ipython",
    "version": 3
   },
   "file_extension": ".py",
   "mimetype": "text/x-python",
   "name": "python",
   "nbconvert_exporter": "python",
   "pygments_lexer": "ipython3",
   "version": "3.7.3"
  }
 },
 "nbformat": 4,
 "nbformat_minor": 4
}
